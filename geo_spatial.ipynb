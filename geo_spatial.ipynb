{
 "cells": [
  {
   "cell_type": "code",
   "execution_count": null,
   "metadata": {},
   "outputs": [],
   "source": [
    "import os\n",
    "import numpy as np\n",
    "import pandas as pd\n",
    "\n",
    "import geopy\n",
    "import plotly_express as px\n",
    "import plotly.graph_objects as go\n",
    "from geopy.geocoders import Nominatim, GoogleV3\n",
    "\n",
    "import matplotlib.pyplot as plt\n",
    "\n",
    "%matplotlib inline"
   ]
  },
  {
   "cell_type": "code",
   "execution_count": null,
   "metadata": {},
   "outputs": [],
   "source": [
    "df_users = pd.read_csv(os.path.join('dataset', 'user_simulated.csv'))\n",
    "df_users.head(3)"
   ]
  },
  {
   "cell_type": "code",
   "execution_count": null,
   "metadata": {},
   "outputs": [],
   "source": [
    "df_gps = pd.read_csv(os.path.join('dataset', 'gps_log_simulated.csv'))\n",
    "df_gps['timestamp'] = pd.to_datetime(df_gps['timestamp'], format='%m/%d/%Y %H:%M%S')\n",
    "df_gps.head(3)"
   ]
  },
  {
   "cell_type": "code",
   "execution_count": null,
   "metadata": {},
   "outputs": [],
   "source": [
    "df = pd.merge(left=df_users, right=df_gps, on='user_id', how='inner')\n",
    "df.info()"
   ]
  },
  {
   "cell_type": "code",
   "execution_count": null,
   "metadata": {},
   "outputs": [],
   "source": [
    "df['day'] = df['timestamp'].apply(lambda t: t.date().day)\n",
    "df['hour'] = df['timestamp'].apply(lambda t: t.hour)\n",
    "\n",
    "# Age bin\n",
    "bins = [0, 10, 20, 30, 40, 50, 60, 70]\n",
    "labels = ['0-9', '10-19', '20-29', '30-39', '40-49', '50-59', '60 and older']\n",
    "df['age_group'] = pd.cut(df['age'], bins=bins, labels=labels)"
   ]
  },
  {
   "cell_type": "code",
   "execution_count": null,
   "metadata": {},
   "outputs": [],
   "source": [
    "# Sort dataframe\n",
    "df = df.sort_values(by=['user_id', 'timestamp'], ascending=True)\n",
    "df.head()"
   ]
  },
  {
   "cell_type": "code",
   "execution_count": null,
   "metadata": {},
   "outputs": [],
   "source": [
    "px.set_mapbox_access_token('pk.eyJ1IjoiYWt3aW4iLCJhIjoiY2s4cXF3Nm8xMDV2NzNlcDFyZHE3bDRiayJ9.A_uFEJFBXXKCO7RifbxvHw')\n",
    "px.scatter_mapbox(\n",
    "    df,\n",
    "    lat='home_latitude',\n",
    "    lon='home_longitude',\n",
    "    hover_name='name',\n",
    "    zoom=8,\n",
    "    title='User\\'s Home Coordinates'\n",
    ")"
   ]
  },
  {
   "cell_type": "code",
   "execution_count": null,
   "metadata": {},
   "outputs": [],
   "source": [
    "# Last recorded position of all users at 3 Apr 2020\n",
    "subset = df[df['day']==3].sort_values(by=['user_id', 'timestamp'])\n",
    "subset = subset.groupby(by=['user_id']).last().reset_index()\n",
    "\n",
    "px.scatter_mapbox(\n",
    "    subset,\n",
    "    lat='latitude',\n",
    "    lon='longitude',\n",
    "    hover_name='name',\n",
    "    zoom=8,\n",
    "    title='Last recorded positions of users on April 3, 2020'\n",
    ")"
   ]
  },
  {
   "cell_type": "code",
   "execution_count": null,
   "metadata": {},
   "outputs": [],
   "source": [
    "px.scatter_mapbox(\n",
    "    df,\n",
    "    lat='latitude',\n",
    "    lon='longitude',\n",
    "    hover_name='name',\n",
    "    animation_frame='day',\n",
    "    color='sex',\n",
    "    zoom=8,\n",
    "    title='How do users travel in this week (April 2, 2020 to April 8, 2020)'\n",
    ")"
   ]
  },
  {
   "cell_type": "code",
   "execution_count": null,
   "metadata": {},
   "outputs": [],
   "source": [
    "px.scatter_mapbox(\n",
    "    df,\n",
    "    lat='latitude',\n",
    "    lon='longitude',\n",
    "    hover_name='name',\n",
    "    animation_frame='day',\n",
    "    color='age_group',\n",
    "    zoom=8,\n",
    "    title='How do users travel in this week (April 2, 2020 to April 8, 2020)'\n",
    ")"
   ]
  },
  {
   "cell_type": "code",
   "execution_count": null,
   "metadata": {},
   "outputs": [],
   "source": [
    "# How user_id 100 moved around the city in this week\n",
    "user_100 = df[(df['user_id'].isin([10]))].sort_values(by=['day', 'hour'])\n",
    "home_lon = user_100['home_longitude'].values\n",
    "home_lat = user_100['home_latitude'].values\n",
    "home_label = 'Home of ' + user_100.name\n",
    "fig = px.scatter_mapbox(\n",
    "    user_100,\n",
    "    lat='latitude',\n",
    "    lon='longitude',\n",
    "    hover_name='name',\n",
    "    animation_frame='day',\n",
    "    zoom=8,\n",
    "    title='How user_id 100 moved around the city (April 2, 2020 to April 8, 2020)',\n",
    ")\n",
    "fig.add_trace(go.Scattermapbox(\n",
    "    mode='markers+text',\n",
    "    lon=home_lon,\n",
    "    lat=home_lat,\n",
    "    marker={'size': 20},\n",
    "    showlegend=False,\n",
    "    text=home_label, \n",
    "    textposition='bottom right',\n",
    "))\n"
   ]
  },
  {
   "cell_type": "code",
   "execution_count": null,
   "metadata": {},
   "outputs": [],
   "source": [
    "user_100 = df[(df['user_id'].isin([10]) & (df['day']==5))].sort_values(by=['day', 'hour'])\n",
    "home_lon = user_100['home_longitude'].values\n",
    "home_lat = user_100['home_latitude'].values\n",
    "home_label = 'Home of ' + user_100.name\n",
    "fig = px.scatter_mapbox(\n",
    "    user_100,\n",
    "    lat='latitude',\n",
    "    lon='longitude',\n",
    "    hover_name='name',\n",
    "    animation_frame='hour',\n",
    "    zoom=8,\n",
    "    title='How user_id 100 moved around the city on April 5, 2020',\n",
    ")\n",
    "fig.add_trace(go.Scattermapbox(\n",
    "    mode='markers+text',\n",
    "    lon=home_lon,\n",
    "    lat=home_lat,\n",
    "    marker={'size': 20},\n",
    "    showlegend=False,\n",
    "    text=home_label, \n",
    "    textposition='bottom right',\n",
    "))"
   ]
  },
  {
   "cell_type": "code",
   "execution_count": null,
   "metadata": {},
   "outputs": [],
   "source": []
  }
 ],
 "metadata": {
  "kernelspec": {
   "display_name": "Python 3",
   "language": "python",
   "name": "python3"
  },
  "language_info": {
   "codemirror_mode": {
    "name": "ipython",
    "version": 3
   },
   "file_extension": ".py",
   "mimetype": "text/x-python",
   "name": "python",
   "nbconvert_exporter": "python",
   "pygments_lexer": "ipython3",
   "version": "3.7.4"
  }
 },
 "nbformat": 4,
 "nbformat_minor": 2
}
