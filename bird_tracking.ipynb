{
 "cells": [
  {
   "cell_type": "code",
   "execution_count": null,
   "metadata": {},
   "outputs": [],
   "source": [
    "import os\n",
    "import numpy as np\n",
    "import pandas as pd\n",
    "\n",
    "import geopy\n",
    "import plotly_express as px\n",
    "import plotly.graph_objects as go\n",
    "from geopy.geocoders import Nominatim, GoogleV3\n",
    "\n",
    "import matplotlib.pyplot as plt\n",
    "\n",
    "%matplotlib inline"
   ]
  },
  {
   "cell_type": "code",
   "execution_count": null,
   "metadata": {},
   "outputs": [],
   "source": [
    "df = pd.read_csv(os.path.join('dataset', 'bird_tracking.csv'), usecols=['device_info_serial', 'longitude', 'latitude', 'date_time'])\n",
    "df.rename(columns={'device_info_serial': 'name'}, inplace=True)\n",
    "name_map = {\n",
    "    719: 'Harry',\n",
    "    801: 'Jurgen',\n",
    "    833: 'Sanned',\n",
    "    849: 'Hilbran',\n",
    "    851: 'Eric',\n",
    "    853: 'Michelle',\n",
    "    864: 'Nico'\n",
    "}\n",
    "df['date_time'] = pd.to_datetime(df['date_time'], format=\"%Y-%m-%d %H:%M:%S\")\n",
    "df['year'] = df['date_time'].apply(lambda t: t.date().year)\n",
    "df['ym'] = df['date_time'].apply(lambda t: str(t.date().year) + '/' + str(t.date().month))\n",
    "df['ymd'] = df['date_time'].apply(lambda t: str(t.date().year) + '/' + str(t.date().month) + '/' + str(t.date().day))\n",
    "df['name'] = df['name'].map(name_map)\n",
    "df.head()"
   ]
  },
  {
   "cell_type": "code",
   "execution_count": null,
   "metadata": {},
   "outputs": [],
   "source": [
    "df = df.sort_values(by=['date_time'])"
   ]
  },
  {
   "cell_type": "code",
   "execution_count": null,
   "metadata": {},
   "outputs": [],
   "source": [
    "px.set_mapbox_access_token('pk.eyJ1IjoiYWt3aW4iLCJhIjoiY2s4cXF3Nm8xMDV2NzNlcDFyZHE3bDRiayJ9.A_uFEJFBXXKCO7RifbxvHw')\n",
    "fig = px.scatter_mapbox(\n",
    "    df,\n",
    "    lat='latitude',\n",
    "    lon='longitude',\n",
    ")\n",
    "fig.update_traces(\n",
    "    marker = dict(\n",
    "        color='MediumPurple',\n",
    "        size=2\n",
    "    )\n",
    ")\n",
    "fig"
   ]
  },
  {
   "cell_type": "code",
   "execution_count": null,
   "metadata": {},
   "outputs": [],
   "source": [
    "subset = df\n",
    "px.set_mapbox_access_token('pk.eyJ1IjoiYWt3aW4iLCJhIjoiY2s4cXF3Nm8xMDV2NzNlcDFyZHE3bDRiayJ9.A_uFEJFBXXKCO7RifbxvHw')\n",
    "fig = px.scatter_mapbox(\n",
    "    subset,\n",
    "    lat='latitude',\n",
    "    lon='longitude',\n",
    "    color='name',\n",
    ")\n",
    "fig.update_traces(\n",
    "    marker = dict(\n",
    "        size=6\n",
    "    )\n",
    ")\n",
    "fig"
   ]
  },
  {
   "cell_type": "code",
   "execution_count": null,
   "metadata": {},
   "outputs": [],
   "source": [
    "subset = df\n",
    "px.set_mapbox_access_token('pk.eyJ1IjoiYWt3aW4iLCJhIjoiY2s4cXF3Nm8xMDV2NzNlcDFyZHE3bDRiayJ9.A_uFEJFBXXKCO7RifbxvHw')\n",
    "fig = px.scatter_mapbox(\n",
    "    subset,\n",
    "    lat='latitude',\n",
    "    lon='longitude',\n",
    "    color='name',\n",
    "    animation_frame='ym',\n",
    "    width=1000,\n",
    "    height=1000\n",
    ")\n",
    "fig.update_traces(\n",
    "    marker = dict(\n",
    "        size=6\n",
    "    )\n",
    ")\n",
    "fig"
   ]
  }
 ],
 "metadata": {
  "kernelspec": {
   "display_name": "Python 3",
   "language": "python",
   "name": "python3"
  },
  "language_info": {
   "codemirror_mode": {
    "name": "ipython",
    "version": 3
   },
   "file_extension": ".py",
   "mimetype": "text/x-python",
   "name": "python",
   "nbconvert_exporter": "python",
   "pygments_lexer": "ipython3",
   "version": "3.7.4"
  }
 },
 "nbformat": 4,
 "nbformat_minor": 2
}
